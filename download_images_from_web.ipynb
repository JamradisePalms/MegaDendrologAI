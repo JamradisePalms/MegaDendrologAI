{
 "cells": [
  {
   "cell_type": "code",
   "execution_count": 5,
   "id": "564ba3c5",
   "metadata": {},
   "outputs": [],
   "source": [
    "from icrawler.builtin import BingImageCrawler\n",
    "from configs.paths import WEB_DATASET_DIR\n",
    "import os\n",
    "\n",
    "def download_images(query, n, out_dir):\n",
    "    crawler = BingImageCrawler(storage={'root_dir': out_dir})\n",
    "    crawler.crawl(keyword=query, max_num=n)"
   ]
  },
  {
   "cell_type": "code",
   "execution_count": 6,
   "id": "8d429b38",
   "metadata": {},
   "outputs": [],
   "source": [
    "bushes = [\n",
    "    'чубушник',\n",
    "    \"лапчатка кустарниковая\",\n",
    "    \"сирень обыкновенная\",\n",
    "    \"карагана древовидная\",\n",
    "    \"пузыреплодник калинолистный\",\n",
    "    \"спирея\",\n",
    "    \"кизильник\",\n",
    "    \"дерен белый\",\n",
    "    \"лещина\",\n",
    "    \"боярышник\",\n",
    "    \"роза собачья\",\n",
    "    \"роза морщинистая\"\n",
    "]"
   ]
  },
  {
   "cell_type": "code",
   "execution_count": 7,
   "id": "2bf67c97",
   "metadata": {},
   "outputs": [
    {
     "name": "stderr",
     "output_type": "stream",
     "text": [
      "2025-09-29 22:13:24,122 - INFO - icrawler.crawler - start crawling...\n",
      "2025-09-29 22:13:24,122 - INFO - icrawler.crawler - starting 1 feeder threads...\n",
      "2025-09-29 22:13:24,123 - INFO - feeder - thread feeder-001 exit\n",
      "2025-09-29 22:13:24,123 - INFO - icrawler.crawler - starting 1 parser threads...\n",
      "2025-09-29 22:13:24,124 - INFO - icrawler.crawler - starting 1 downloader threads...\n",
      "2025-09-29 22:13:24,724 - INFO - parser - parsing result page https://www.bing.com/images/async?q=куст чубушник реальное фото&first=0\n",
      "2025-09-29 22:13:25,070 - INFO - downloader - image #1\thttp://plodogorod.com/wp-content/uploads/2015/10/CHubushnik-kust-730x548.jpg\n",
      "2025-09-29 22:13:25,802 - INFO - downloader - downloaded images reach max num, thread downloader-001 is ready to exit\n",
      "2025-09-29 22:13:25,802 - INFO - downloader - thread downloader-001 exit\n",
      "2025-09-29 22:13:26,135 - INFO - icrawler.crawler - Crawling task done!\n",
      "2025-09-29 22:13:26,137 - INFO - icrawler.crawler - start crawling...\n",
      "2025-09-29 22:13:26,138 - INFO - icrawler.crawler - starting 1 feeder threads...\n",
      "2025-09-29 22:13:26,138 - INFO - feeder - thread feeder-001 exit\n",
      "2025-09-29 22:13:26,139 - INFO - icrawler.crawler - starting 1 parser threads...\n",
      "2025-09-29 22:13:26,140 - INFO - icrawler.crawler - starting 1 downloader threads...\n",
      "2025-09-29 22:13:26,629 - INFO - parser - parsing result page https://www.bing.com/images/async?q=куст лапчатка кустарниковая реальное фото&first=0\n",
      "2025-09-29 22:13:27,081 - INFO - parser - downloaded image reached max num, thread parser-001 is ready to exit\n",
      "2025-09-29 22:13:27,082 - INFO - parser - thread parser-001 exit\n",
      "2025-09-29 22:13:35,235 - INFO - downloader - image #1\thttps://media.decorateme.com/article2images/1987/lapchatka-kustarnikovaia.jpg\n",
      "2025-09-29 22:13:35,585 - INFO - downloader - downloaded images reach max num, thread downloader-001 is ready to exit\n",
      "2025-09-29 22:13:35,586 - INFO - downloader - thread downloader-001 exit\n",
      "2025-09-29 22:13:36,180 - INFO - icrawler.crawler - Crawling task done!\n",
      "2025-09-29 22:13:36,182 - INFO - icrawler.crawler - start crawling...\n",
      "2025-09-29 22:13:36,182 - INFO - icrawler.crawler - starting 1 feeder threads...\n",
      "2025-09-29 22:13:36,183 - INFO - feeder - thread feeder-001 exit\n",
      "2025-09-29 22:13:36,184 - INFO - icrawler.crawler - starting 1 parser threads...\n",
      "2025-09-29 22:13:36,185 - INFO - icrawler.crawler - starting 1 downloader threads...\n",
      "2025-09-29 22:13:36,242 - INFO - parser - downloaded image reached max num, thread parser-001 is ready to exit\n",
      "2025-09-29 22:13:36,242 - INFO - parser - thread parser-001 exit\n",
      "2025-09-29 22:13:36,776 - INFO - parser - parsing result page https://www.bing.com/images/async?q=куст сирень обыкновенная реальное фото&first=0\n",
      "2025-09-29 22:13:41,900 - ERROR - downloader - Exception caught when downloading file https://na-dache.pro/uploads/posts/2021-05/1621778815_34-p-foto-rasteniya-kust-sireni-47.jpg, error: HTTPSConnectionPool(host='na-dache.pro', port=443): Max retries exceeded with url: /uploads/posts/2021-05/1621778815_34-p-foto-rasteniya-kust-sireni-47.jpg (Caused by ConnectTimeoutError(<urllib3.connection.HTTPSConnection object at 0x1101ea850>, 'Connection to na-dache.pro timed out. (connect timeout=5)')), remaining retry times: 2\n",
      "2025-09-29 22:13:46,908 - ERROR - downloader - Exception caught when downloading file https://na-dache.pro/uploads/posts/2021-05/1621778815_34-p-foto-rasteniya-kust-sireni-47.jpg, error: HTTPSConnectionPool(host='na-dache.pro', port=443): Max retries exceeded with url: /uploads/posts/2021-05/1621778815_34-p-foto-rasteniya-kust-sireni-47.jpg (Caused by ConnectTimeoutError(<urllib3.connection.HTTPSConnection object at 0x1101e96d0>, 'Connection to na-dache.pro timed out. (connect timeout=5)')), remaining retry times: 1\n"
     ]
    },
    {
     "ename": "KeyboardInterrupt",
     "evalue": "",
     "output_type": "error",
     "traceback": [
      "\u001b[31m---------------------------------------------------------------------------\u001b[39m",
      "\u001b[31mKeyboardInterrupt\u001b[39m                         Traceback (most recent call last)",
      "\u001b[36mCell\u001b[39m\u001b[36m \u001b[39m\u001b[32mIn[7]\u001b[39m\u001b[32m, line 5\u001b[39m\n\u001b[32m      3\u001b[39m save_dir = WEB_DATASET_DIR / bush\n\u001b[32m      4\u001b[39m save_dir.mkdir(exist_ok=\u001b[38;5;28;01mTrue\u001b[39;00m, parents=\u001b[38;5;28;01mTrue\u001b[39;00m)\n\u001b[32m----> \u001b[39m\u001b[32m5\u001b[39m \u001b[43mdownload_images\u001b[49m\u001b[43m(\u001b[49m\u001b[33;43mf\u001b[39;49m\u001b[33;43m\"\u001b[39;49m\u001b[33;43mкуст \u001b[39;49m\u001b[38;5;132;43;01m{\u001b[39;49;00m\u001b[43mbush\u001b[49m\u001b[38;5;132;43;01m}\u001b[39;49;00m\u001b[33;43m реальное фото\u001b[39;49m\u001b[33;43m\"\u001b[39;49m\u001b[43m,\u001b[49m\u001b[43m \u001b[49m\u001b[43mNUMBER_OF_IMAGES\u001b[49m\u001b[43m,\u001b[49m\u001b[43m \u001b[49m\u001b[43msave_dir\u001b[49m\u001b[43m)\u001b[49m\n",
      "\u001b[36mCell\u001b[39m\u001b[36m \u001b[39m\u001b[32mIn[5]\u001b[39m\u001b[32m, line 7\u001b[39m, in \u001b[36mdownload_images\u001b[39m\u001b[34m(query, n, out_dir)\u001b[39m\n\u001b[32m      5\u001b[39m \u001b[38;5;28;01mdef\u001b[39;00m\u001b[38;5;250m \u001b[39m\u001b[34mdownload_images\u001b[39m(query, n, out_dir):\n\u001b[32m      6\u001b[39m     crawler = BingImageCrawler(storage={\u001b[33m'\u001b[39m\u001b[33mroot_dir\u001b[39m\u001b[33m'\u001b[39m: out_dir})\n\u001b[32m----> \u001b[39m\u001b[32m7\u001b[39m     \u001b[43mcrawler\u001b[49m\u001b[43m.\u001b[49m\u001b[43mcrawl\u001b[49m\u001b[43m(\u001b[49m\u001b[43mkeyword\u001b[49m\u001b[43m=\u001b[49m\u001b[43mquery\u001b[49m\u001b[43m,\u001b[49m\u001b[43m \u001b[49m\u001b[43mmax_num\u001b[49m\u001b[43m=\u001b[49m\u001b[43mn\u001b[49m\u001b[43m)\u001b[49m\n",
      "\u001b[36mFile \u001b[39m\u001b[32m~/MyProjects/MegaDendrologAI/.venv/lib/python3.13/site-packages/icrawler/builtin/bing.py:171\u001b[39m, in \u001b[36mBingImageCrawler.crawl\u001b[39m\u001b[34m(self, keyword, filters, offset, max_num, min_size, max_size, file_idx_offset, overwrite, max_idle_time)\u001b[39m\n\u001b[32m    162\u001b[39m feeder_kwargs = \u001b[38;5;28mdict\u001b[39m(keyword=keyword, offset=offset, max_num=max_num, filters=filters)\n\u001b[32m    163\u001b[39m downloader_kwargs = \u001b[38;5;28mdict\u001b[39m(\n\u001b[32m    164\u001b[39m     max_num=max_num,\n\u001b[32m    165\u001b[39m     min_size=min_size,\n\u001b[32m   (...)\u001b[39m\u001b[32m    169\u001b[39m     max_idle_time=max_idle_time,\n\u001b[32m    170\u001b[39m )\n\u001b[32m--> \u001b[39m\u001b[32m171\u001b[39m \u001b[38;5;28;43msuper\u001b[39;49m\u001b[43m(\u001b[49m\u001b[43m)\u001b[49m\u001b[43m.\u001b[49m\u001b[43mcrawl\u001b[49m\u001b[43m(\u001b[49m\u001b[43mfeeder_kwargs\u001b[49m\u001b[43m=\u001b[49m\u001b[43mfeeder_kwargs\u001b[49m\u001b[43m,\u001b[49m\u001b[43m \u001b[49m\u001b[43mdownloader_kwargs\u001b[49m\u001b[43m=\u001b[49m\u001b[43mdownloader_kwargs\u001b[49m\u001b[43m)\u001b[49m\n",
      "\u001b[36mFile \u001b[39m\u001b[32m~/MyProjects/MegaDendrologAI/.venv/lib/python3.13/site-packages/icrawler/crawler.py:185\u001b[39m, in \u001b[36mCrawler.crawl\u001b[39m\u001b[34m(self, feeder_kwargs, parser_kwargs, downloader_kwargs)\u001b[39m\n\u001b[32m    183\u001b[39m     \u001b[38;5;28;01mif\u001b[39;00m \u001b[38;5;129;01mnot\u001b[39;00m \u001b[38;5;28mself\u001b[39m.downloader.is_alive():\n\u001b[32m    184\u001b[39m         \u001b[38;5;28;01mbreak\u001b[39;00m\n\u001b[32m--> \u001b[39m\u001b[32m185\u001b[39m     \u001b[43mtime\u001b[49m\u001b[43m.\u001b[49m\u001b[43msleep\u001b[49m\u001b[43m(\u001b[49m\u001b[32;43m1\u001b[39;49m\u001b[43m)\u001b[49m\n\u001b[32m    187\u001b[39m \u001b[38;5;28;01mif\u001b[39;00m \u001b[38;5;129;01mnot\u001b[39;00m \u001b[38;5;28mself\u001b[39m.feeder.in_queue.empty():\n\u001b[32m    188\u001b[39m     \u001b[38;5;28mself\u001b[39m.feeder.clear_buffer()\n",
      "\u001b[31mKeyboardInterrupt\u001b[39m: "
     ]
    },
    {
     "name": "stderr",
     "output_type": "stream",
     "text": [
      "2025-09-29 22:13:51,915 - ERROR - downloader - Exception caught when downloading file https://na-dache.pro/uploads/posts/2021-05/1621778815_34-p-foto-rasteniya-kust-sireni-47.jpg, error: HTTPSConnectionPool(host='na-dache.pro', port=443): Max retries exceeded with url: /uploads/posts/2021-05/1621778815_34-p-foto-rasteniya-kust-sireni-47.jpg (Caused by ConnectTimeoutError(<urllib3.connection.HTTPSConnection object at 0x1101eb110>, 'Connection to na-dache.pro timed out. (connect timeout=5)')), remaining retry times: 0\n",
      "2025-09-29 22:13:56,924 - ERROR - downloader - Exception caught when downloading file https://na-dache.pro/uploads/posts/2021-05/1621778842_78-p-foto-rasteniya-kust-sireni-105.jpg, error: HTTPSConnectionPool(host='na-dache.pro', port=443): Max retries exceeded with url: /uploads/posts/2021-05/1621778842_78-p-foto-rasteniya-kust-sireni-105.jpg (Caused by ConnectTimeoutError(<urllib3.connection.HTTPSConnection object at 0x1101ead50>, 'Connection to na-dache.pro timed out. (connect timeout=5)')), remaining retry times: 2\n",
      "2025-09-29 22:14:01,932 - ERROR - downloader - Exception caught when downloading file https://na-dache.pro/uploads/posts/2021-05/1621778842_78-p-foto-rasteniya-kust-sireni-105.jpg, error: HTTPSConnectionPool(host='na-dache.pro', port=443): Max retries exceeded with url: /uploads/posts/2021-05/1621778842_78-p-foto-rasteniya-kust-sireni-105.jpg (Caused by ConnectTimeoutError(<urllib3.connection.HTTPSConnection object at 0x1101e9810>, 'Connection to na-dache.pro timed out. (connect timeout=5)')), remaining retry times: 1\n",
      "2025-09-29 22:14:06,940 - ERROR - downloader - Exception caught when downloading file https://na-dache.pro/uploads/posts/2021-05/1621778842_78-p-foto-rasteniya-kust-sireni-105.jpg, error: HTTPSConnectionPool(host='na-dache.pro', port=443): Max retries exceeded with url: /uploads/posts/2021-05/1621778842_78-p-foto-rasteniya-kust-sireni-105.jpg (Caused by ConnectTimeoutError(<urllib3.connection.HTTPSConnection object at 0x1101eae90>, 'Connection to na-dache.pro timed out. (connect timeout=5)')), remaining retry times: 0\n",
      "2025-09-29 22:14:11,950 - ERROR - downloader - Exception caught when downloading file https://na-dache.pro/uploads/posts/2021-05/1621778892_74-p-foto-rasteniya-kust-sireni-101.jpg, error: HTTPSConnectionPool(host='na-dache.pro', port=443): Max retries exceeded with url: /uploads/posts/2021-05/1621778892_74-p-foto-rasteniya-kust-sireni-101.jpg (Caused by ConnectTimeoutError(<urllib3.connection.HTTPSConnection object at 0x1101ea850>, 'Connection to na-dache.pro timed out. (connect timeout=5)')), remaining retry times: 2\n",
      "2025-09-29 22:14:16,956 - ERROR - downloader - Exception caught when downloading file https://na-dache.pro/uploads/posts/2021-05/1621778892_74-p-foto-rasteniya-kust-sireni-101.jpg, error: HTTPSConnectionPool(host='na-dache.pro', port=443): Max retries exceeded with url: /uploads/posts/2021-05/1621778892_74-p-foto-rasteniya-kust-sireni-101.jpg (Caused by ConnectTimeoutError(<urllib3.connection.HTTPSConnection object at 0x1101ebb10>, 'Connection to na-dache.pro timed out. (connect timeout=5)')), remaining retry times: 1\n"
     ]
    }
   ],
   "source": [
    "NUMBER_OF_IMAGES = 10\n",
    "for bush in bushes:\n",
    "    save_dir = WEB_DATASET_DIR / bush\n",
    "    save_dir.mkdir(exist_ok=True, parents=True)\n",
    "    download_images(f\"куст {bush} реальное фото\", NUMBER_OF_IMAGES, save_dir)"
   ]
  },
  {
   "cell_type": "code",
   "execution_count": null,
   "id": "077870bd",
   "metadata": {},
   "outputs": [],
   "source": []
  }
 ],
 "metadata": {
  "kernelspec": {
   "display_name": ".venv",
   "language": "python",
   "name": "python3"
  },
  "language_info": {
   "codemirror_mode": {
    "name": "ipython",
    "version": 3
   },
   "file_extension": ".py",
   "mimetype": "text/x-python",
   "name": "python",
   "nbconvert_exporter": "python",
   "pygments_lexer": "ipython3",
   "version": "3.13.5"
  }
 },
 "nbformat": 4,
 "nbformat_minor": 5
}
