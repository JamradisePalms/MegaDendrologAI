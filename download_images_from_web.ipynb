{
 "cells": [
  {
   "cell_type": "code",
   "execution_count": null,
   "id": "564ba3c5",
   "metadata": {},
   "outputs": [],
   "source": [
    "from icrawler.builtin import BingImageCrawler\n",
    "from configs.paths import WEB_DATASET_DIR\n",
    "import os\n",
    "\n",
    "def download_images(query, n, out_dir):\n",
    "    crawler = BingImageCrawler(storage={'root_dir': out_dir})\n",
    "    crawler.crawl(keyword=query, max_num=n)"
   ]
  },
  {
   "cell_type": "code",
   "execution_count": null,
   "id": "8d429b38",
   "metadata": {},
   "outputs": [],
   "source": [
    "bushes = [\n",
    "    'чубушник',\n",
    "    \"лапчатка кустарниковая\",\n",
    "    \"сирень обыкновенная\",\n",
    "    \"карагана древовидная\",\n",
    "    \"пузыреплодник калинолистный\",\n",
    "    \"спирея\",\n",
    "    \"кизильник\",\n",
    "    \"дерен белый\",\n",
    "    \"лещина\",\n",
    "    \"боярышник\",\n",
    "    \"роза собачья\",\n",
    "    \"роза морщинистая\"\n",
    "]"
   ]
  },
  {
   "cell_type": "code",
   "execution_count": null,
   "id": "2bf67c97",
   "metadata": {},
   "outputs": [],
   "source": [
    "NUMBER_OF_IMAGES = 10\n",
    "for bush in bushes:\n",
    "    save_dir = WEB_DATASET_DIR / bush\n",
    "    save_dir.mkdir(exist_ok=True, parents=True)\n",
    "    download_images(f\"куст {bush} реальное фото\", NUMBER_OF_IMAGES, save_dir)"
   ]
  },
  {
   "cell_type": "code",
   "execution_count": null,
   "id": "077870bd",
   "metadata": {},
   "outputs": [],
   "source": []
  }
 ],
 "metadata": {
  "kernelspec": {
   "display_name": ".venv",
   "language": "python",
   "name": "python3"
  },
  "language_info": {
   "codemirror_mode": {
    "name": "ipython",
    "version": 3
   },
   "file_extension": ".py",
   "mimetype": "text/x-python",
   "name": "python",
   "nbconvert_exporter": "python",
   "pygments_lexer": "ipython3",
   "version": "3.13.5"
  }
 },
 "nbformat": 4,
 "nbformat_minor": 5
}
